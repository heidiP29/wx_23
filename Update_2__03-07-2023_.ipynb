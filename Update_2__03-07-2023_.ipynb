{
 "cells": [
  {
   "cell_type": "markdown",
   "id": "4e02a1d3",
   "metadata": {},
   "source": [
    "## Group F - Energy Conversion: Calibration Interpolation"
   ]
  },
  {
   "cell_type": "markdown",
   "id": "5afb453b",
   "metadata": {},
   "source": [
    "## (In collaboration with Group G - Energy Conversion: Integration)"
   ]
  },
  {
   "cell_type": "markdown",
   "id": "46d430ff",
   "metadata": {},
   "source": [
    "### Summary of last update"
   ]
  },
  {
   "cell_type": "markdown",
   "id": "d8ce56e4",
   "metadata": {},
   "source": [
    "> 1. We were given a calibration coefficient ($Cal_{R5IM}$), which can be multiplied with the voltage to find the number of protons.\n",
    "> 2. Using this, we displayed the number of protons in the intensity monitor in one cycle of the synchrotron through a graph.\n",
    "> 3. We researched four main methods of interpolation:\n",
    ">     - **Linear** - Creates straight lines between data points\n",
    ">     - **Cubic Spline** - Creates a cubic function between each adjacent data point\n",
    ">     - **Lagrange Polynomial** - Creates one polynomial which passes through all data points\n",
    ">     - **Newton Polynomial** - Uses a mathematical function to divide the difference between the data points by the difference between the point and the origin iteratively.\n",
    "> 4. Finally, Toby tested the speed of interpolation methods."
   ]
  },
  {
   "cell_type": "markdown",
   "id": "aef08817",
   "metadata": {},
   "source": [
    "### The Accuracy Test"
   ]
  },
  {
   "cell_type": "markdown",
   "id": "8b4bf92a",
   "metadata": {},
   "source": [
    "> To test the accuracy of these interpolation methods, we compared them against the three trigonometric waves:\n",
    "> <ul>\n",
    "> <li>Henrique tested the interpolation methods against the tangent wave.</li>\n",
    "> <li>Toby tested the interpolation methods against the sine wave.</li>\n",
    "> <li>Heidi tested the interpolation methods against the cosine wave.</li>\n",
    "> </ul>\n",
    "> Soon, after a LOT of mentally-draining work, we were told to move on to the next task and we had successfully wasted our time."
   ]
  },
  {
   "cell_type": "markdown",
   "id": "21c2e860",
   "metadata": {},
   "source": [
    "### Maximum MeV Modifier"
   ]
  },
  {
   "cell_type": "markdown",
   "id": "9f369a8f",
   "metadata": {},
   "source": [
    "> After *that* time-waste, progress had to be done.\n",
    "> </br>And soon, the final task was complete:"
   ]
  },
  {
   "cell_type": "code",
   "execution_count": 13,
   "id": "bede8563",
   "metadata": {},
   "outputs": [],
   "source": [
    "#importing necessary libraries\n",
    "import glob\n",
    "import pandas as pd\n",
    "import random\n",
    "import paho.mqtt.client as mqtt\n",
    "import string\n",
    "import time\n",
    "import matplotlib.pyplot as plt\n",
    "import numpy as np\n",
    "import numpy.polynomial.polynomial as poly\n",
    "from scipy.interpolate import lagrange"
   ]
  },
  {
   "cell_type": "code",
   "execution_count": 14,
   "id": "fedfcec0",
   "metadata": {},
   "outputs": [],
   "source": [
    "x = np.array([70, 172, 374, 617, 780]) #5 new variables to process the two overlapping graphs\n",
    "y = np.array([2.22E-13, 2.59E-13, 4.31E-12, 1.60E-11, 3.50E-11])\n",
    "f = lagrange(x, y)\n",
    "x_new = np.arange(70, 780, 0.1)\n",
    "y_new = f(x_new)"
   ]
  },
  {
   "cell_type": "code",
   "execution_count": null,
   "id": "137d6815",
   "metadata": {},
   "outputs": [],
   "source": [
    "inpt1 = int(input(\"Enter a number above 70: \"))\n",
    "inpt_x_array = [70, 780] #initiated for the input above \n",
    "y_array = [2.22E-13, 3.50E-11]\n",
    "inpt_x_array.append(inpt1) #creates maximum value\n",
    "\n",
    "def divided_diff(inpt_x_array, y_array): #function to calculate the divided differences table\n",
    "    n = len(y_array)\n",
    "    coef = np.zeros([n, n])\n",
    "    # the first column is y\n",
    "    coef[:,0] = y\n",
    "    \n",
    "    for j in range(1,n):\n",
    "        for i in range(n-j):\n",
    "            coef[i][j] = \\\n",
    "           (coef[i+1][j-1] - coef[i][j-1]) / (x[i+j]-x[i])\n",
    "            \n",
    "    return coef\n",
    "\n",
    "def newton_poly(coef, mstime, inpt_x_array): #evaluate the newton polynomial at x\n",
    "    n = len(mstime) - 1 \n",
    "    p = coef[n]\n",
    "    for k in range(1,n+1):\n",
    "        p = coef[n-k] + (inpt_x_array -mstime[n-k])*p\n",
    "    return p\n",
    "\n",
    "# get the divided difference coef\n",
    "x_new_inpt = np.arange(70, inpt1, 0.1)\n",
    "y_new_inpt = f(x_new_inpt)\n",
    "\n",
    "plt.figure(figsize = (12, 8))\n",
    "plt.plot(x_new, y_new, 'g', label='Predicted Calibration Curve')\n",
    "plt.plot(x_new_inpt, y_new_inpt, 'b', label='Calibration Curve')\n",
    "plt.plot(x, y, 'ro')\n",
    "plt.legend()\n",
    "plt.grid()\n",
    "plt.title('Modified Calibration Coefficient Graph')\n",
    "plt.xlabel('Beam Energy [MeV]')\n",
    "plt.ylabel('Calibration Coefficient [mVs/proton]')"
   ]
  },
  {
   "cell_type": "markdown",
   "id": "b7506cf5",
   "metadata": {},
   "source": [
    "### The Collaboration"
   ]
  },
  {
   "cell_type": "markdown",
   "id": "e29a1d4e",
   "metadata": {},
   "source": [
    "> After finally finishing all of the solo group tasks, we were now instructed to collaborate with Group G to successfully:\n",
    "> <ul>\n",
    "> <li>Interpolate the calibration curve using methods you have defined</li>\n",
    "> <li>Integrate BLM signal per bin (2200 - 1 = 2199 bins) using methods from Group G.</li>\n",
    "> <li>Use Esher's BLM calibration story notebook to convert BLM signals from volts to; Protons, Coulombs (Charge), and Joules (Energy)</li>\n",
    "> </ul>\n",
    "> </br>\n",
    "> Instinctually, we began reading Esher's BLM Calibration story."
   ]
  },
  {
   "cell_type": "markdown",
   "id": "5743cc8e",
   "metadata": {},
   "source": [
    "$$ N[t]=K_I⋅I[t] $$\n",
    "</br>\n",
    "$$\\frac{dN[t]}{dt}=K_{BL}[t]⋅BL_s[t]$$\n",
    "</br>\n",
    "$$ΔN=∫_{t_1}^{t_2}\\frac{dN[t]}{dt}⋅dt≈\\sum_{t_i=t_1}^{t_2} K_{BL} [t_i]⋅BL_s [t_i] ⋅t_s$$\n",
    "</br>\n",
    "$$ΔN=∫_{t_1}^{t_2}\\frac{dN[t]}{dt}⋅dt=K_I⋅∫_{t_1}^{t_2}\\frac{dI[t]}{dt}⋅dt=K_I (I[t_2 ]-I[t_1 ]) $$"
   ]
  },
  {
   "cell_type": "markdown",
   "id": "ceeacec2",
   "metadata": {},
   "source": [
    "$$ΔN=∫_{t_1}^{t_2}\\frac{dN[t]}{dt}⋅dt≈K_I⋅∑_{t_i=t_1}^{t_2}\\biggr(\\frac{I[t_i]-I[t_{i-1} ]}{t_s}\\biggr) ⋅t_s≈K_I (I[t_2]-I[t_1])$$\n",
    "</br>\n",
    "$$\\frac{dN[t]}{dt}=K_{BL}[t]⋅BL_s[t]$$\n",
    "</br>\n",
    "$$ΔN=∫_{t_1}^{t_2}\\frac{dN[t]}{dt}⋅dt≈\\sum_{t_i=t_1}^{t_2} K_{BL} [t_i]⋅BL_s [t_i] ⋅t_s$$"
   ]
  },
  {
   "cell_type": "markdown",
   "id": "7e02a3e6",
   "metadata": {},
   "source": [
    "> As you can see, however, it was a lot of complicated math that we didn't understand, so we ignored the notebook.\n",
    "> </br>After shifting our focus away from *that*, Group G had explained to us that our plotted graph was messing all the data up, as it had a curve in the beginning that went into negative number territory.\n",
    "> </br>At first, we thought to merge interpolation methods to obtain non-negative points.\n",
    "> </br>However, while that would solve the negative number problem, it would make the data *slightly* less accurate."
   ]
  },
  {
   "cell_type": "code",
   "execution_count": 10,
   "id": "0b00aad5",
   "metadata": {},
   "outputs": [],
   "source": [
    "x_new = np.arange(172, 780, 0.1)\n",
    "y_new = f(x_new)\n",
    "novaX = np.array([70, 172]) #Two new variables to create the linear interpolation of the first 2 data points\n",
    "novaY = np.array([2.22E-13, 2.59E-13])"
   ]
  },
  {
   "cell_type": "code",
   "execution_count": 11,
   "id": "3ff9cecf",
   "metadata": {},
   "outputs": [],
   "source": [
    "def divided_diff(x, y): #function to calculate the divided differences table\n",
    "    n = len(y)\n",
    "    coef = np.zeros([n, n])\n",
    "    # the first column is y\n",
    "    coef[:,0] = y\n",
    "    \n",
    "    for j in range(1,n):\n",
    "        for i in range(n-j):\n",
    "            coef[i][j] = \\\n",
    "           (coef[i+1][j-1] - coef[i][j-1]) / (x[i+j]-x[i])\n",
    "            \n",
    "    return coef\n",
    "\n",
    "def newton_poly(coef, mstime, x): #evaluate the newton polynomial at x\n",
    "    n = len(mstime) - 1 \n",
    "    p = coef[n]\n",
    "    for k in range(1,n+1):\n",
    "        p = coef[n-k] + (x -mstime[n-k])*p\n",
    "    return p"
   ]
  },
  {
   "cell_type": "code",
   "execution_count": 12,
   "id": "91fc0d3c",
   "metadata": {},
   "outputs": [
    {
     "data": {
      "text/plain": [
       "Text(0, 0.5, 'Calibration Coefficient [mVs/proton]')"
      ]
     },
     "execution_count": 12,
     "metadata": {},
     "output_type": "execute_result"
    },
    {
     "data": {
      "image/png": "[encoded data removed]",
      "text/plain": [
       "<Figure size 1200x800 with 1 Axes>"
      ]
     },
     "metadata": {},
     "output_type": "display_data"
    }
   ],
   "source": [
    "# get the divided difference coef\n",
    "a_s = divided_diff(x, y)[0, :]\n",
    "\n",
    "data_points = 2330\n",
    "x_data = np.linspace(-55, 800, data_points)\n",
    "plt.figure(figsize = (12, 8))\n",
    "plt.plot(x_new, y_new, 'b') #plots newtonian interpolation between all data points EXCEPT the first one\n",
    "plt.plot(novaX, novaY, 'b') #plots linear interpolation between the 2 beginning data points\n",
    "plt.plot(x, y, 'ro') #plots the red data points\n",
    "plt.grid()\n",
    "plt.title('Beam Energy with a Partial Newtonian Polynomial Interpolation Curve')\n",
    "plt.xlabel('Beam Energy [MeV]')\n",
    "plt.ylabel('Calibration Coefficient [mVs/proton]')"
   ]
  },
  {
   "cell_type": "markdown",
   "id": "f7ddcb98",
   "metadata": {},
   "source": [
    "> As you can see above, the first two points are linked through linear interpolation (which is, ironically, the method of interpolation we completely ignored last update) and the other points are then interpolated using Newtonian interpolation."
   ]
  },
  {
   "cell_type": "markdown",
   "id": "363e8605",
   "metadata": {},
   "source": [
    "> This solves the negative number problem, but (since it uses linear interpolation) it reduced accuracy between 70 and 172 MeV."
   ]
  },
  {
   "cell_type": "markdown",
   "id": "6d8519c8",
   "metadata": {},
   "source": [
    "### Current Tasks\n",
    "1. Find an accurate method to interpolate data to avoid negative numbers.\n",
    "2. To develop a method of changing the top beam energy"
   ]
  },
  {
   "cell_type": "markdown",
   "id": "41bb5833",
   "metadata": {},
   "source": [
    "### Future Tasks\n",
    "1. Move on to Stage 2, and work on fully-functioning GUIs."
   ]
  }
 ],
 "metadata": {
  "kernelspec": {
   "display_name": "Python 3 (ipykernel)",
   "language": "python",
   "name": "python3"
  },
  "language_info": {
   "codemirror_mode": {
    "name": "ipython",
    "version": 3
   },
   "file_extension": ".py",
   "mimetype": "text/x-python",
   "name": "python",
   "nbconvert_exporter": "python",
   "pygments_lexer": "ipython3",
   "version": "3.10.9"
  }
 },
 "nbformat": 4,
 "nbformat_minor": 5
}
