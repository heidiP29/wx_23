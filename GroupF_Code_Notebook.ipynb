{
 "cells": [
  {
   "cell_type": "markdown",
   "id": "fd6a1e1e",
   "metadata": {},
   "source": [
    "# Group F - Interpolation Functions and Code"
   ]
  },
  {
   "cell_type": "markdown",
   "id": "ee1f00e5",
   "metadata": {},
   "source": [
    "### Authors:\n",
    "- Henrique Sato\n",
    "- Toby Hall\n",
    "- Heidi Poulter"
   ]
  },
  {
   "cell_type": "markdown",
   "id": "e3235659",
   "metadata": {},
   "source": [
    "### Goals: \n",
    "1. To convert volts to protons (for the intensity meter)\n",
    "2. To interpolate a graph of the energy in the synchrotron\n",
    "3. To work with group F to convert volts to protons (for the BLMs)"
   ]
  },
  {
   "cell_type": "markdown",
   "id": "472ff622",
   "metadata": {},
   "source": [
    "#### Including all dependencies:"
   ]
  },
  {
   "cell_type": "code",
   "execution_count": 1,
   "id": "68856b86",
   "metadata": {},
   "outputs": [],
   "source": [
    "import glob\n",
    "import pandas as pd\n",
    "import random\n",
    "import paho.mqtt.client as mqtt\n",
    "import string\n",
    "import time\n",
    "import math\n",
    "import matplotlib.pyplot as plt\n",
    "import numpy as np\n",
    "from scipy.interpolate import lagrange"
   ]
  },
  {
   "cell_type": "markdown",
   "id": "9cc9fafc",
   "metadata": {},
   "source": [
    "## Calculating the number of protons"
   ]
  },
  {
   "cell_type": "markdown",
   "id": "465fd0b8",
   "metadata": {},
   "source": [
    "We were tasked with calculating the number of protons in the BLMs and the intensity monitor."
   ]
  },
  {
   "cell_type": "markdown",
   "id": "29fb3d0c",
   "metadata": {},
   "source": [
    "To calculate the number of protons in the intensity monitor, we multiplied the given voltage with the calibration coefficient we were given:"
   ]
  },
  {
   "cell_type": "code",
   "execution_count": 2,
   "id": "6c5c96cf",
   "metadata": {},
   "outputs": [],
   "source": [
    " R5IM_calibration_coefficient = 4E12"
   ]
  },
  {
   "cell_type": "markdown",
   "id": "c50159c9",
   "metadata": {},
   "source": []
  }
 ],
 "metadata": {
  "kernelspec": {
   "display_name": "Python 3 (ipykernel)",
   "language": "python",
   "name": "python3"
  },
  "language_info": {
   "codemirror_mode": {
    "name": "ipython",
    "version": 3
   },
   "file_extension": ".py",
   "mimetype": "text/x-python",
   "name": "python",
   "nbconvert_exporter": "python",
   "pygments_lexer": "ipython3",
   "version": "3.10.9"
  }
 },
 "nbformat": 4,
 "nbformat_minor": 5
}
